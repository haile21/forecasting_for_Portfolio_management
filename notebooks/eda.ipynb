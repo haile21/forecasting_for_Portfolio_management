{
 "cells": [
  {
   "cell_type": "code",
   "execution_count": null,
   "id": "initial_id",
   "metadata": {
    "collapsed": true
   },
   "outputs": [],
   "source": [
    "import matplotlib.pyplot as plt\n",
    "import seaborn as sns\n",
    "from statsmodels.tsa.stattools import adfuller\n",
    "import numpy as np"
   ]
  },
  {
   "metadata": {},
   "cell_type": "code",
   "outputs": [],
   "execution_count": null,
   "source": [
    "# Import preprocessing function\n",
    "from ../scripts/data_preprocessing import preprocess_data\n",
    "\n",
    "sns.set(style=\"whitegrid\")"
   ],
   "id": "a5234c4a0bae0ed1"
  },
  {
   "metadata": {},
   "cell_type": "code",
   "outputs": [],
   "execution_count": null,
   "source": [
    "# Get preprocessed data\n",
    "data_dict = preprocess_data()\n",
    "pivot_close = data_dict[\"pivot_close\"]\n",
    "daily_returns = data_dict[\"daily_returns\"]\n",
    "rolling_volatility = data_dict[\"rolling_volatility\"]"
   ],
   "id": "2d2f987c63bffc01"
  },
  {
   "metadata": {},
   "cell_type": "code",
   "outputs": [],
   "execution_count": null,
   "source": [
    "# 1. Closing prices plot\n",
    "pivot_close.plot(title='Asset Closing Prices', figsize=(14, 6))\n",
    "plt.ylabel('Price ($)')\n",
    "plt.show()"
   ],
   "id": "2b8f73c5350142e2"
  },
  {
   "metadata": {},
   "cell_type": "code",
   "outputs": [],
   "execution_count": null,
   "source": [
    "# 2. Daily returns plot\n",
    "daily_returns.plot(title='Daily Returns', figsize=(14, 6))\n",
    "plt.ylabel('Returns')\n",
    "plt.show()"
   ],
   "id": "f8c7956fa1679940"
  },
  {
   "metadata": {},
   "cell_type": "code",
   "outputs": [],
   "execution_count": null,
   "source": [
    "# 3. Rolling volatility plot\n",
    "rolling_volatility.plot(title='30-Day Rolling Volatility', figsize=(14, 6))\n",
    "plt.ylabel('Volatility')\n",
    "plt.show()"
   ],
   "id": "e1dbae6d338cc229"
  },
  {
   "metadata": {},
   "cell_type": "code",
   "outputs": [],
   "execution_count": null,
   "source": [
    "# 4. ADF test\n",
    "def adf_test(series, title=''):\n",
    "    result = adfuller(series.dropna(), autolag='AIC')\n",
    "    print(f'ADF Test for {title}')\n",
    "    print(f'Test Statistic: {result[0]}')\n",
    "    print(f'p-value: {result[1]}')\n",
    "    for key, value in result[4].items():\n",
    "        print(f'   {key}: {value}')\n",
    "    print(\"Stationary\" if result[1] < 0.05 else \"Not Stationary\")\n",
    "\n",
    "adf_test(pivot_close['TSLA'], title='TSLA Closing Prices')\n",
    "adf_test(daily_returns['TSLA'], title='TSLA Daily Returns')"
   ],
   "id": "d1de47c710878730"
  },
  {
   "metadata": {},
   "cell_type": "code",
   "outputs": [],
   "execution_count": null,
   "source": [
    "# 5. Value at Risk\n",
    "var_95 = daily_returns.quantile(0.05)\n",
    "print(\"Value at Risk (5% quantile):\\n\", var_95)"
   ],
   "id": "c6fed8ce3d5ff91c"
  },
  {
   "metadata": {},
   "cell_type": "code",
   "outputs": [],
   "execution_count": null,
   "source": [
    "# 6. Sharpe Ratios\n",
    "sharpe_ratio = (daily_returns.mean() / daily_returns.std()) * np.sqrt(252)\n",
    "print(\"\\nSharpe Ratios:\\n\", sharpe_ratio)"
   ],
   "id": "15b66abb56b38d89"
  }
 ],
 "metadata": {
  "kernelspec": {
   "display_name": "Python 3",
   "language": "python",
   "name": "python3"
  },
  "language_info": {
   "codemirror_mode": {
    "name": "ipython",
    "version": 2
   },
   "file_extension": ".py",
   "mimetype": "text/x-python",
   "name": "python",
   "nbconvert_exporter": "python",
   "pygments_lexer": "ipython2",
   "version": "2.7.6"
  }
 },
 "nbformat": 4,
 "nbformat_minor": 5
}
