{
 "cells": [
  {
   "cell_type": "code",
   "execution_count": null,
   "id": "initial_id",
   "metadata": {
    "collapsed": true
   },
   "outputs": [],
   "source": [
    "import pandas as pd, numpy as np, matplotlib.pyplot as plt\n",
    "from task1_data_preprocessing import preprocess_data\n",
    "%matplotlib inline\n",
    "\n",
    "prices = preprocess_data()[\"pivot_close\"][['TSLA','BND','SPY']].sort_index()\n",
    "start = \"2024-08-01\"; end = \"2025-07-31\"\n",
    "prices_bt = prices.loc[start:end]\n",
    "prices_bt.head()\n"
   ]
  },
  {
   "metadata": {},
   "cell_type": "code",
   "outputs": [],
   "execution_count": null,
   "source": [
    "def run_backtest_weights(prices, weights, start, end, initial_capital=100000, mode='hold'):\n",
    "    prices = prices.loc[start:end].dropna(how='all')\n",
    "    dates = prices.index\n",
    "    # start allocation at first day\n",
    "    first = dates[0]\n",
    "    # target dollar allocation\n",
    "    port_val = initial_capital\n",
    "    target_dollars = {a: weights.get(a,0)*port_val for a in [\"TSLA\",\"BND\",\"SPY\"]}\n",
    "    holdings = {a: target_dollars[a]/prices.loc[first,a] if prices.loc[first,a]>0 else 0 for a in target_dollars}\n",
    "    nav = []\n",
    "    for d in dates:\n",
    "        nav_val = sum(holdings[a]*prices.loc[d,a] for a in holdings)\n",
    "        nav.append((d, nav_val))\n",
    "        # handle monthly rebalance if desired (left as exercise in notebook)\n",
    "    nav_df = pd.DataFrame(nav, columns=['date','nav']).set_index('date')\n",
    "    nav_df['returns'] = nav_df['nav'].pct_change().fillna(0)\n",
    "    return nav_df\n",
    "\n",
    "# weights example\n",
    "strategy_weights = {\"TSLA\":0.3,\"SPY\":0.4,\"BND\":0.3}\n",
    "benchmark_weights = {\"TSLA\":0.0,\"SPY\":0.6,\"BND\":0.4}\n"
   ],
   "id": "bf3f057ef127cbd9"
  },
  {
   "metadata": {},
   "cell_type": "code",
   "outputs": [],
   "execution_count": null,
   "source": [
    "strat_nav = run_backtest_weights(prices_bt, strategy_weights, start, end)\n",
    "bench_nav = run_backtest_weights(prices_bt, benchmark_weights, start, end)\n",
    "\n",
    "plt.figure(figsize=(12,5))\n",
    "plt.plot(strat_nav.index, strat_nav['nav']/strat_nav['nav'].iloc[0], label='Strategy')\n",
    "plt.plot(bench_nav.index, bench_nav['nav']/bench_nav['nav'].iloc[0], label='Benchmark 60/40', linestyle='--')\n",
    "plt.legend(); plt.title('Backtest cumulative returns'); plt.show()\n"
   ],
   "id": "571504dd2a8245d7"
  },
  {
   "metadata": {},
   "cell_type": "code",
   "outputs": [],
   "execution_count": null,
   "source": [
    "def metrics(nav_df):\n",
    "    total = nav_df['nav'].iloc[-1]/nav_df['nav'].iloc[0]-1\n",
    "    days = (nav_df.index[-1]-nav_df.index[0]).days\n",
    "    ann = (1+total)**(252/days)-1\n",
    "    vol = nav_df['returns'].std()*np.sqrt(252)\n",
    "    sharpe = (nav_df['returns'].mean()*252 - 0.03) / vol\n",
    "    return {'total':total, 'annualized':ann, 'vol':vol, 'sharpe':sharpe}\n",
    "\n",
    "print('Strategy:', metrics(strat_nav))\n",
    "print('Benchmark:', metrics(bench_nav))\n"
   ],
   "id": "4f0334babdd4dac"
  },
  {
   "metadata": {},
   "cell_type": "code",
   "outputs": [],
   "execution_count": null,
   "source": "",
   "id": "12ad15849f9c9177"
  }
 ],
 "metadata": {
  "kernelspec": {
   "display_name": "Python 3",
   "language": "python",
   "name": "python3"
  },
  "language_info": {
   "codemirror_mode": {
    "name": "ipython",
    "version": 2
   },
   "file_extension": ".py",
   "mimetype": "text/x-python",
   "name": "python",
   "nbconvert_exporter": "python",
   "pygments_lexer": "ipython2",
   "version": "2.7.6"
  }
 },
 "nbformat": 4,
 "nbformat_minor": 5
}
