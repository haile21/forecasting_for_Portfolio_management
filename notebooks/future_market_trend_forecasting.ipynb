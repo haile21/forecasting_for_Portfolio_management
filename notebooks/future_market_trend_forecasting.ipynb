{
 "cells": [
  {
   "cell_type": "code",
   "execution_count": null,
   "id": "initial_id",
   "metadata": {
    "collapsed": true
   },
   "outputs": [],
   "source": [
    "import pandas as pd, matplotlib.pyplot as plt\n",
    "%matplotlib inline\n",
    "\n",
    "arima_6 = pd.read_csv(\"task3_outputs/forecast_arima_6m.csv\", parse_dates=[\"date\"], index_col=\"date\")\n",
    "arima_12 = pd.read_csv(\"task3_outputs/forecast_arima_12m.csv\", parse_dates=[\"date\"], index_col=\"date\")\n",
    "lstm_6 = pd.read_csv(\"task3_outputs/forecast_lstm_6m.csv\", parse_dates=[\"date\"], index_col=\"date\")\n",
    "lstm_12 = pd.read_csv(\"task3_outputs/forecast_lstm_12m.csv\", parse_dates=[\"date\"], index_col=\"date\")\n",
    "hist = pd.read_csv(\"pivot_close.csv\", parse_dates=[\"Date\"], index_col=\"Date\")[\"TSLA\"]\n"
   ]
  },
  {
   "metadata": {},
   "cell_type": "code",
   "outputs": [],
   "execution_count": null,
   "source": [
    "plt.figure(figsize=(12,6))\n",
    "plt.plot(hist.index, hist.values, label=\"Historical\", color='black')\n",
    "plt.plot(arima_6.index, arima_6[\"arima_forecast\"], label=\"ARIMA 6m\", color='red')\n",
    "plt.fill_between(arima_6.index, arima_6[\"arima_lower\"], arima_6[\"arima_upper\"], color='red', alpha=0.2)\n",
    "if not lstm_6.empty:\n",
    "    plt.plot(lstm_6.index, lstm_6[\"lstm_forecast\"], label=\"LSTM 6m\", color='green')\n",
    "    plt.fill_between(lstm_6.index, lstm_6[\"lstm_lower\"], lstm_6[\"lstm_upper\"], color='green', alpha=0.15)\n",
    "plt.legend(); plt.title(\"TSLA Forecast 6-month\"); plt.show()\n"
   ],
   "id": "61a6e96f4b3e12e3"
  },
  {
   "metadata": {},
   "cell_type": "code",
   "outputs": [],
   "execution_count": null,
   "source": "",
   "id": "49aa493fdc44b505"
  }
 ],
 "metadata": {
  "kernelspec": {
   "display_name": "Python 3",
   "language": "python",
   "name": "python3"
  },
  "language_info": {
   "codemirror_mode": {
    "name": "ipython",
    "version": 2
   },
   "file_extension": ".py",
   "mimetype": "text/x-python",
   "name": "python",
   "nbconvert_exporter": "python",
   "pygments_lexer": "ipython2",
   "version": "2.7.6"
  }
 },
 "nbformat": 4,
 "nbformat_minor": 5
}
